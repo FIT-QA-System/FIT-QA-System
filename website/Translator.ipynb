{
 "cells": [
  {
   "cell_type": "code",
   "execution_count": 9,
   "metadata": {
    "collapsed": true
   },
   "outputs": [],
   "source": [
    "from nltk.corpus import wordnet as wn\n",
    "from nltk.corpus.reader.wordnet import WordNetError\n",
    "from nltk import word_tokenize, pos_tag   ##implementation of similarity() from http://nlpforhackers.io/wordnet-sentence-similarity/\n",
    "def penn_to_wn(tag):\n",
    "    \"\"\" Convert between a Penn Treebank tag to a simplified Wordnet tag \"\"\"\n",
    "    if tag.startswith('N'):\n",
    "        return 'n'\n",
    " \n",
    "    if tag.startswith('V'):\n",
    "        return 'v'\n",
    " \n",
    "    if tag.startswith('J'):\n",
    "        return 'a'\n",
    " \n",
    "    if tag.startswith('R'):\n",
    "        return 'r'\n",
    " \n",
    "    return None\n",
    " \n",
    "def tagged_to_synset(word, tag):\n",
    "    wn_tag = penn_to_wn(tag)\n",
    "    if wn_tag is None:\n",
    "        return None\n",
    " \n",
    "    try:\n",
    "        return wn.synsets(word, wn_tag)[0]\n",
    "    except:\n",
    "        return None\n",
    "def pathsim(ss1, ss2):\n",
    "    if ss1.path_similarity(ss2) is None:\n",
    "        return 0\n",
    "    return ss1.path_similarity(ss2)\n",
    "def sentence_similarity(sentence1, sentence2):\n",
    "    \"\"\" compute the sentence similarity using Wordnet \"\"\"\n",
    "    # Tokenize and tag\n",
    "    NoneType = type(None)\n",
    "    sentence1 = pos_tag(word_tokenize(sentence1))\n",
    "    sentence1nv = []\n",
    "    sentence2 = pos_tag(word_tokenize(sentence2))\n",
    "    sentence2nv = []\n",
    "    # Get the synsets for the tagged words\n",
    "    synsets1 = []\n",
    "    count1 = 0\n",
    "    count2=0\n",
    "    tup = ()\n",
    "    synsetnone1 = []\n",
    "    for tagged_word in sentence1:\n",
    "        if type(tagged_to_synset(*tagged_word))== NoneType and tagged_word[0][0].isupper() and penn_to_wn(tagged_word[1]) == 'n':\n",
    "            count1 += 1\n",
    "            tup = (tagged_word[0], tagged_word[1])\n",
    "            sentence1nv.append(tup)\n",
    "            synsetnone1.append(tup)\n",
    "            continue\n",
    "        if penn_to_wn(tagged_word[1]) == 'n':\n",
    "            count1 += 1\n",
    "            tup = (tagged_word[0], tagged_word[1])\n",
    "            sentence1nv.append(tup)\n",
    "    synsets2 = []\n",
    "    tup = ()\n",
    "    synsetnone2 = []\n",
    "    for tagged_word in sentence2:\n",
    "        if type(tagged_to_synset(*tagged_word))== NoneType and tagged_word[0][0].isupper() and penn_to_wn(tagged_word[1]) == 'n':\n",
    "            count2+=1\n",
    "            tup = (tagged_word[0], tagged_word[1])\n",
    "            sentence2nv.append(tup)\n",
    "            synsetnone2.append(tup)\n",
    "            continue\n",
    "        if penn_to_wn(tagged_word[1]) == 'n':\n",
    "            count2+=1\n",
    "            tup = (tagged_word[0], tagged_word[1])\n",
    "            sentence2nv.append(tup)\n",
    "    synsets1 = [tagged_to_synset(tagged_word, tag) for tagged_word, tag in sentence1nv]\n",
    "    synsets2 = [tagged_to_synset(tagged_word, tag) for tagged_word, tag in sentence2nv]\n",
    "    \n",
    "    # Filter out the Nones\n",
    "    synsets1 = [ss for ss in synsets1 if not type(ss) == NoneType]\n",
    "    synsets2 = [ss for ss in synsets2 if not type(ss) == NoneType]\n",
    "    score = 0.0\n",
    "    # For each word in the first sentence\n",
    "    for synset in synsets1:\n",
    "        # Get the similarity value of the most similar word in the other sentence\n",
    "        if not synsets2 == []:\n",
    "            best_score = max([pathsim(synset, ss) for ss in synsets2])\n",
    "        # Check that the similarity could have been computed\n",
    "            if best_score is not None:\n",
    "                score += best_score\n",
    "    for synset in synsets2:\n",
    "        # Get the similarity value of the most similar word in the other sentence\n",
    "        if not synsets1 == []:\n",
    "            best_score = max([pathsim(synset, ss) for ss in synsets1])\n",
    "        # Check that the similarity could have been computed\n",
    "            if best_score is not None:\n",
    "                score += best_score\n",
    "    for synsetnone in synsetnone2:\n",
    "        if synsetnone in synsetnone1:\n",
    "            score += 1\n",
    "    for synsetnone in synsetnone1:\n",
    "        if synsetnone in synsetnone2:\n",
    "            score += 1\n",
    "    # Average the values\n",
    "    score /= (count1 + count2)\n",
    "    return score"
   ]
  },
  {
   "cell_type": "code",
   "execution_count": 16,
   "metadata": {
    "collapsed": true
   },
   "outputs": [],
   "source": [
    "def namedentity():\n",
    "    sent = tb.tagged_sents()[22]\n",
    "    print()"
   ]
  },
  {
   "cell_type": "code",
   "execution_count": 17,
   "metadata": {
    "scrolled": true
   },
   "outputs": [
    {
     "name": "stdout",
     "output_type": "stream",
     "text": [
      "(S\n",
      "  The/DT\n",
      "  (GPE U.S./NNP)\n",
      "  is/VBZ\n",
      "  one/CD\n",
      "  of/IN\n",
      "  the/DT\n",
      "  few/JJ\n",
      "  industrialized/VBN\n",
      "  nations/NNS\n",
      "  that/WDT\n",
      "  *T*-7/-NONE-\n",
      "  does/VBZ\n",
      "  n't/RB\n",
      "  have/VB\n",
      "  a/DT\n",
      "  higher/JJR\n",
      "  standard/NN\n",
      "  of/IN\n",
      "  regulation/NN\n",
      "  for/IN\n",
      "  the/DT\n",
      "  smooth/JJ\n",
      "  ,/,\n",
      "  needle-like/JJ\n",
      "  fibers/NNS\n",
      "  such/JJ\n",
      "  as/IN\n",
      "  crocidolite/NN\n",
      "  that/WDT\n",
      "  *T*-1/-NONE-\n",
      "  are/VBP\n",
      "  classified/VBN\n",
      "  *-5/-NONE-\n",
      "  as/IN\n",
      "  amphobiles/NNS\n",
      "  ,/,\n",
      "  according/VBG\n",
      "  to/TO\n",
      "  (PERSON Brooke/NNP T./NNP Mossman/NNP)\n",
      "  ,/,\n",
      "  a/DT\n",
      "  professor/NN\n",
      "  of/IN\n",
      "  pathlogy/NN\n",
      "  at/IN\n",
      "  the/DT\n",
      "  (ORGANIZATION University/NNP)\n",
      "  of/IN\n",
      "  (PERSON Vermont/NNP College/NNP)\n",
      "  of/IN\n",
      "  (GPE Medicine/NNP)\n",
      "  ./.)\n"
     ]
    }
   ],
   "source": [
    "namedentity()"
   ]
  },
  {
   "cell_type": "code",
   "execution_count": 34,
   "metadata": {
    "collapsed": true
   },
   "outputs": [],
   "source": [
    "import pickle\n",
    "import re\n",
    "import spacy\n",
    "from get_info import Course\n",
    "def hasclass(question):\n",
    "    courses = pickle.load(open(\"courses.txt\", \"rb\"))\n",
    "    nlp = spacy.load(\"en\")\n",
    "\n",
    "   # print(nlp(question))\n",
    "    course = nlp(question).ents[0].text\n",
    "\n",
    "    answer_course = None\n",
    "\n",
    "    for c in courses:\n",
    "        if c.title == course:\n",
    "            answer_course = c\n",
    "    if answer_course!=None :\n",
    "        return True\n",
    "    return False"
   ]
  },
  {
   "cell_type": "code",
   "execution_count": 2,
   "metadata": {
    "collapsed": true
   },
   "outputs": [],
   "source": [
    "def hasfaculty(question):\n",
    "    if \"Dr.\" in question:\n",
    "        return True\n",
    "    return False"
   ]
  },
  {
   "cell_type": "code",
   "execution_count": 3,
   "metadata": {
    "collapsed": true
   },
   "outputs": [],
   "source": [
    "def hasbuilding(question):\n",
    "    if \"hall\" in question:\n",
    "        return True\n",
    "    return False"
   ]
  },
  {
   "cell_type": "code",
   "execution_count": 4,
   "metadata": {
    "collapsed": true
   },
   "outputs": [],
   "source": [
    "def hasevent(question):\n",
    "    if \"event\" in question:\n",
    "        return True\n",
    "    return False"
   ]
  },
  {
   "cell_type": "code",
   "execution_count": 5,
   "metadata": {
    "collapsed": true
   },
   "outputs": [],
   "source": [
    "def hasdate(question):\n",
    "    if \"date\" in question:\n",
    "        return True\n",
    "    return False"
   ]
  },
  {
   "cell_type": "code",
   "execution_count": 6,
   "metadata": {
    "collapsed": true
   },
   "outputs": [],
   "source": [
    "import nltk\n",
    "from nltk.corpus import wordnet as wn\n",
    "from nltk.corpus import treebank as tb\n",
    "from nltk.corpus.reader.wordnet import WordNetError\n",
    "from nltk import word_tokenize, pos_tag \n",
    "\n",
    "def categorize_questions(question):\n",
    "    \n",
    "    categories=[\"Location\",\"Instructor\",\"Class Time\",\"Classroom\",\"Office Location\",\"Office Hours\",\"Building Hours\",\"Contact\",\"Others\"]\n",
    "    #maxsimilarity = 0\n",
    "    #tags = pos_tag(word_tokenize(question))\n",
    "    #print(nltk.ne_chunk(tags))\n",
    "    ##building hours:\n",
    "    if \"When\" in question or \"when\" in question or \"time\" in question: #1.1 & 1.3 & 1.4 & 1.5, 1.2\n",
    "        if hasbuilding(question):\n",
    "            return categories[6]\n",
    "    if \"open\" in question or \"close\" in question or \"closed\" in question:\n",
    "        if \"Why\" in question or \"How\" in question:\n",
    "            return categories[8]\n",
    "        return categories[6]\n",
    "    if \"building hours\" in question:\n",
    "        return categories[6]\n",
    "    ##instructor\n",
    "    if \"instructor\" in question or \"teacher\" in question or \"teaches\" in question: #2.1 2.2 2.3 class info-instructor=who+class title\n",
    "   #     for word in tags:\n",
    "   #         if pos_tag(word)[1]==\n",
    "        if hasclass(question):\n",
    "            return categories[1]\n",
    "    ##class time\n",
    "    if \"what\" in question or \"What\" in question:\n",
    "        if \"time\" in question:\n",
    "            if hassclass(question):\n",
    "                return categories[2] ##3.1\n",
    "    if \"when\" in question or \"When\" in question:\n",
    "        if hasclass(question):\n",
    "            return categories[2] ##3.2 3.3\n",
    "    ##classroom location\n",
    "    if \"Where\" in question or \"where\" in question or \"location\" in question or \"Which building\" in question:\n",
    "        if hasclass(question):\n",
    "            return categories[3] ##4.1 4.2 4.3\n",
    "    ##faculty office location\n",
    "    if \"Where\" in question or \"where\" in question or \"location\" in question:\n",
    "        if hasfaculty(question):\n",
    "            if \"from\" in question:\n",
    "                return categories[8]\n",
    "            return categories[4] ##5.1 5.2\n",
    "        return categories[0]\n",
    "    ##office hours\n",
    "    if \"office hours\" in question or \"When\" in question and \"office\" in question:\n",
    "        return categories[5]##6.2\n",
    "    ##contact\n",
    "    if \"contact\" in question or \"email\" in question or \"phone number\" in question:\n",
    "        if hasfaculty(question):\n",
    "            return categories[7] ##7.1 7.2\n",
    "    if \"When\" in question:\n",
    "        if hasevent(question):\n",
    "            return \"Calendar\"\n",
    "    if \"event\" in question:\n",
    "        if hasdate(question):\n",
    "            return \"Calendar\"\n",
    "    \n",
    "    #for sample in samples:\n",
    "    #    similarity = sentence_similarity(question,sample)\n",
    "    #    if similarity > maxsimilarity:\n",
    "    #        maxsimilarity = similarity\n",
    "    #        category = sample\n",
    "    return categories[8]"
   ]
  },
  {
   "cell_type": "code",
   "execution_count": 84,
   "metadata": {},
   "outputs": [
    {
     "name": "stdout",
     "output_type": "stream",
     "text": [
      "Instructor\n",
      "Instructor\n"
     ]
    }
   ],
   "source": [
    "print(categorize_questions(\"Who's the instructor of cse 4001\"))\n",
    "print(categorize_questions(\"who teaches cse 4001\"))"
   ]
  },
  {
   "cell_type": "code",
   "execution_count": 85,
   "metadata": {},
   "outputs": [
    {
     "name": "stdout",
     "output_type": "stream",
     "text": [
      "Location\n",
      "Location\n"
     ]
    }
   ],
   "source": [
    "print(categorize_questions(\"What's the location of the dining hall\"))\n",
    "print(categorize_questions(\"Where is the dining hall\"))"
   ]
  },
  {
   "cell_type": "code",
   "execution_count": 86,
   "metadata": {},
   "outputs": [
    {
     "name": "stdout",
     "output_type": "stream",
     "text": [
      "Building Hours\n",
      "Building Hours\n",
      "Building Hours\n",
      "Others\n"
     ]
    }
   ],
   "source": [
    "print(categorize_questions(\"When is the dining hall open\"))\n",
    "print(categorize_questions(\"the building hours of the dining hall\"))\n",
    "print(categorize_questions(\"is the dining hall open now?\"))\n",
    "print(categorize_questions(\"Why is the dining hall closed now?\"))"
   ]
  },
  {
   "cell_type": "code",
   "execution_count": 87,
   "metadata": {},
   "outputs": [
    {
     "name": "stdout",
     "output_type": "stream",
     "text": [
      "Office Location\n",
      "Office Location\n",
      "Others\n"
     ]
    }
   ],
   "source": [
    "print(categorize_questions(\"Where is Dr. John Doe\"))\n",
    "print(categorize_questions(\"location of Dr. Chan's office\"))\n",
    "print(categorize_questions(\"Where is Dr. John Doe from\"))"
   ]
  },
  {
   "cell_type": "code",
   "execution_count": 88,
   "metadata": {},
   "outputs": [
    {
     "name": "stdout",
     "output_type": "stream",
     "text": [
      "Office Hours\n",
      "Office Hours\n"
     ]
    }
   ],
   "source": [
    "print(categorize_questions(\"Dr. John Doe's office hours\"))\n",
    "print(categorize_questions(\"When can I go to Dr. XX's office?\"))"
   ]
  },
  {
   "cell_type": "code",
   "execution_count": 89,
   "metadata": {},
   "outputs": [
    {
     "name": "stdout",
     "output_type": "stream",
     "text": [
      "Contact\n",
      "Contact\n",
      "Contact\n"
     ]
    }
   ],
   "source": [
    "print(categorize_questions(\"What's Dr. Shoaff's phone number\"))\n",
    "print(categorize_questions(\"What's Dr. Shoaff's email address\"))\n",
    "print(categorize_questions(\"how can I contact Dr. John Doe\"))"
   ]
  },
  {
   "cell_type": "code",
   "execution_count": 9,
   "metadata": {},
   "outputs": [
    {
     "name": "stdout",
     "output_type": "stream",
     "text": [
      "Contact\n"
     ]
    }
   ],
   "source": [
    "print(categorize_questions(\"What is Dr.Stansifer's phone number\"))"
   ]
  },
  {
   "cell_type": "code",
   "execution_count": 10,
   "metadata": {},
   "outputs": [
    {
     "name": "stdout",
     "output_type": "stream",
     "text": [
      "Contact\n"
     ]
    }
   ],
   "source": [
    "print(categorize_questions(\"is wds@fit.edu Dr.Shoaff's email address?\"))"
   ]
  },
  {
   "cell_type": "code",
   "execution_count": 90,
   "metadata": {},
   "outputs": [
    {
     "name": "stdout",
     "output_type": "stream",
     "text": [
      "Others\n"
     ]
    }
   ],
   "source": [
    "print(categorize_questions(\"How can I log in to TRACKS\"))"
   ]
  },
  {
   "cell_type": "code",
   "execution_count": 92,
   "metadata": {},
   "outputs": [
    {
     "name": "stdout",
     "output_type": "stream",
     "text": [
      "Classroom\n",
      "Classroom\n",
      "Others\n"
     ]
    }
   ],
   "source": [
    "print(categorize_questions(\"location of the classroom of cse 4001\"))\n",
    "\n",
    "print(categorize_questions(\"Where is cse 4001\"))\n",
    "print(categorize_questions(\"can I bring food into the classroom of cse 4001\"))"
   ]
  },
  {
   "cell_type": "code",
   "execution_count": 8,
   "metadata": {},
   "outputs": [
    {
     "name": "stdout",
     "output_type": "stream",
     "text": [
      "Calendar\n",
      "Calendar\n"
     ]
    }
   ],
   "source": [
    "print(categorize_questions(\"When is the XX event\"))\n",
    "print(categorize_questions(\"what event is on date xx\"))"
   ]
  },
  {
   "cell_type": "code",
   "execution_count": 7,
   "metadata": {
    "collapsed": true
   },
   "outputs": [],
   "source": [
    "def answer_location(question):\n",
    "    return \"location\""
   ]
  },
  {
   "cell_type": "code",
   "execution_count": 32,
   "metadata": {},
   "outputs": [],
   "source": [
    "import pickle\n",
    "import re\n",
    "import spacy\n",
    "from get_info import Course\n",
    "def answer_class(question,subtype):\n",
    "    courses = pickle.load(open(\"courses.txt\", \"rb\"))\n",
    "    nlp = spacy.load(\"en\")\n",
    "\n",
    "    #print(nlp(question))\n",
    "    course = nlp(question).ents[0].text\n",
    "\n",
    "    answer_course = None\n",
    "\n",
    "    for c in courses:  ##index(hashtable(unique key--ID,multiple indices,can be course number,building number,teacher,+value, can ask database to do it), tree) on top of data\n",
    "        if c.title == course:\n",
    "            answer_course = c\n",
    "    #print(answer_course)\n",
    "    if subtype == \"Instructor\":\n",
    "        return answer_course.instructor\n",
    "    elif subtype == \"Classroom\":\n",
    "        return answer_course.place\n",
    "    elif subtype == \"Class Time\":\n",
    "        return answer_course.days + \" \" + answer_course.time\n",
    "    else:\n",
    "        return answer_course.__dict__"
   ]
  },
  {
   "cell_type": "code",
   "execution_count": 10,
   "metadata": {
    "collapsed": true
   },
   "outputs": [],
   "source": [
    "def answer_staff(question,subtype):\n",
    "    return \"staff\""
   ]
  },
  {
   "cell_type": "code",
   "execution_count": 11,
   "metadata": {
    "collapsed": true
   },
   "outputs": [],
   "source": [
    "def answer_buildinghours(question):\n",
    "    return \"hours\""
   ]
  },
  {
   "cell_type": "code",
   "execution_count": 12,
   "metadata": {
    "collapsed": true
   },
   "outputs": [],
   "source": [
    "def answer_frompassage(question):\n",
    "    return \"passage\""
   ]
  },
  {
   "cell_type": "code",
   "execution_count": 13,
   "metadata": {
    "collapsed": true
   },
   "outputs": [],
   "source": [
    "def exists(question):\n",
    "    return False;"
   ]
  },
  {
   "cell_type": "code",
   "execution_count": 14,
   "metadata": {
    "collapsed": true
   },
   "outputs": [],
   "source": [
    "def get_answer(question):\n",
    "    return \"old\""
   ]
  },
  {
   "cell_type": "code",
   "execution_count": 15,
   "metadata": {
    "collapsed": true
   },
   "outputs": [],
   "source": [
    "from get_info import Course\n",
    "def answer(question):\n",
    "    if exists(question):\n",
    "        answer=get_answer(question)\n",
    "        return answer\n",
    "    cat = categorize_questions(question)\n",
    "    if cat==\"Location\":\n",
    "        answer = answer_location(question)\n",
    "    elif cat==\"Instructor\" or cat==\"Class Time\" or cat==\"Classroom\":\n",
    "        answer = answer_class(question,cat);\n",
    "    elif cat==\"Office Location\" or cat==\"Office Hours\" or cat==\"Contact\":\n",
    "        answer = answer_staff(question,cat);\n",
    "    elif cat==\"Building Hours\":\n",
    "        answer = answer_buildinghours(question);\n",
    "    else:\n",
    "        answer = answer_frompassage(question);\n",
    "    return answer"
   ]
  },
  {
   "cell_type": "code",
   "execution_count": 37,
   "metadata": {},
   "outputs": [
    {
     "name": "stdout",
     "output_type": "stream",
     "text": [
      "Mehta\n",
      "SKU202\n",
      "Mehta\n",
      "MWF 1300-1350\n",
      "passage\n"
     ]
    }
   ],
   "source": [
    "print(answer(\"Who's the instructor of Intro to Human Factors\"))\n",
    "print(answer(\"Where is the classroom of Intro to Human Factors\"))\n",
    "print(answer(\"Who teaches Intro to Human Factors\"))\n",
    "print(answer(\"When is Intro to Human Factors\"))\n",
    "print(answer(\"Can you bring food into the classroom of Intro to Human Factors\"))"
   ]
  },
  {
   "cell_type": "code",
   "execution_count": 38,
   "metadata": {},
   "outputs": [
    {
     "name": "stdout",
     "output_type": "stream",
     "text": [
      "Mehta\n"
     ]
    }
   ],
   "source": [
    "print(answer(\"Who's the instructor of Intro to Human Factors\"))"
   ]
  },
  {
   "cell_type": "code",
   "execution_count": null,
   "metadata": {
    "collapsed": true
   },
   "outputs": [],
   "source": [
    ""
   ]
  }
 ],
 "metadata": {
  "kernelspec": {
   "display_name": "Python 3",
   "language": "python",
   "name": "python3"
  },
  "language_info": {
   "codemirror_mode": {
    "name": "ipython",
    "version": 3.0
   },
   "file_extension": ".py",
   "mimetype": "text/x-python",
   "name": "python",
   "nbconvert_exporter": "python",
   "pygments_lexer": "ipython3",
   "version": "3.6.4"
  }
 },
 "nbformat": 4,
 "nbformat_minor": 0
}